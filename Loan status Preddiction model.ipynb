{
 "cells": [
  {
   "cell_type": "markdown",
   "id": "6a69be10",
   "metadata": {
    "papermill": {
     "duration": 0.006858,
     "end_time": "2024-10-12T01:45:58.940408",
     "exception": false,
     "start_time": "2024-10-12T01:45:58.933550",
     "status": "completed"
    },
    "tags": []
   },
   "source": [
    "# hope this helps with understanding how XGB and LGBM was used together for high score result.\n",
    "**If you find this helpful please upvote & maybe leave a comment, would help alot :)**"
   ]
  },
  {
   "cell_type": "markdown",
   "id": "1c46fbf7",
   "metadata": {
    "papermill": {
     "duration": 0.005775,
     "end_time": "2024-10-12T01:45:58.952937",
     "exception": false,
     "start_time": "2024-10-12T01:45:58.947162",
     "status": "completed"
    },
    "tags": []
   },
   "source": [
    "## Loading libraries and Data"
   ]
  },
  {
   "cell_type": "code",
   "execution_count": 1,
   "id": "d0671ee0",
   "metadata": {
    "_cell_guid": "b1076dfc-b9ad-4769-8c92-a6c4dae69d19",
    "_uuid": "8f2839f25d086af736a60e9eeb907d3b93b6e0e5",
    "execution": {
     "iopub.execute_input": "2024-10-12T01:45:58.967771Z",
     "iopub.status.busy": "2024-10-12T01:45:58.966729Z",
     "iopub.status.idle": "2024-10-12T01:45:59.782405Z",
     "shell.execute_reply": "2024-10-12T01:45:59.781123Z"
    },
    "papermill": {
     "duration": 0.825771,
     "end_time": "2024-10-12T01:45:59.784860",
     "exception": false,
     "start_time": "2024-10-12T01:45:58.959089",
     "status": "completed"
    },
    "tags": []
   },
   "outputs": [
    {
     "name": "stdout",
     "output_type": "stream",
     "text": [
      "/kaggle/input/playground-series-s4e10/sample_submission.csv\n",
      "/kaggle/input/playground-series-s4e10/train.csv\n",
      "/kaggle/input/playground-series-s4e10/test.csv\n"
     ]
    }
   ],
   "source": [
    "# This Python 3 environment comes with many helpful analytics libraries installed\n",
    "# It is defined by the kaggle/python Docker image: https://github.com/kaggle/docker-python\n",
    "# For example, here's several helpful packages to load\n",
    "\n",
    "import numpy as np # linear algebra\n",
    "import pandas as pd # data processing, CSV file I/O (e.g. pd.read_csv)\n",
    "\n",
    "# Input data files are available in the read-only \"../input/\" directory\n",
    "# For example, running this (by clicking run or pressing Shift+Enter) will list all files under the input directory\n",
    "\n",
    "import os\n",
    "for dirname, _, filenames in os.walk('/kaggle/input'):\n",
    "    for filename in filenames:\n",
    "        print(os.path.join(dirname, filename))\n",
    "\n",
    "# You can write up to 20GB to the current directory (/kaggle/working/) that gets preserved as output when you create a version using \"Save & Run All\" \n",
    "# You can also write temporary files to /kaggle/temp/, but they won't be saved outside of the current session"
   ]
  },
  {
   "cell_type": "code",
   "execution_count": 2,
   "id": "971ed3c5",
   "metadata": {
    "execution": {
     "iopub.execute_input": "2024-10-12T01:45:59.799423Z",
     "iopub.status.busy": "2024-10-12T01:45:59.798556Z",
     "iopub.status.idle": "2024-10-12T01:46:01.221884Z",
     "shell.execute_reply": "2024-10-12T01:46:01.220860Z"
    },
    "papermill": {
     "duration": 1.433429,
     "end_time": "2024-10-12T01:46:01.224475",
     "exception": false,
     "start_time": "2024-10-12T01:45:59.791046",
     "status": "completed"
    },
    "tags": []
   },
   "outputs": [],
   "source": [
    "import warnings\n",
    "from sklearn.linear_model import Lasso\n",
    "from sklearn.linear_model import LassoCV\n",
    "from sklearn.model_selection import train_test_split\n",
    "from sklearn.preprocessing import StandardScaler, LabelEncoder\n"
   ]
  },
  {
   "cell_type": "code",
   "execution_count": 3,
   "id": "3683ef4e",
   "metadata": {
    "execution": {
     "iopub.execute_input": "2024-10-12T01:46:01.238736Z",
     "iopub.status.busy": "2024-10-12T01:46:01.238126Z",
     "iopub.status.idle": "2024-10-12T01:46:01.498753Z",
     "shell.execute_reply": "2024-10-12T01:46:01.497670Z"
    },
    "papermill": {
     "duration": 0.270438,
     "end_time": "2024-10-12T01:46:01.501104",
     "exception": false,
     "start_time": "2024-10-12T01:46:01.230666",
     "status": "completed"
    },
    "tags": []
   },
   "outputs": [
    {
     "data": {
      "text/html": [
       "<div>\n",
       "<style scoped>\n",
       "    .dataframe tbody tr th:only-of-type {\n",
       "        vertical-align: middle;\n",
       "    }\n",
       "\n",
       "    .dataframe tbody tr th {\n",
       "        vertical-align: top;\n",
       "    }\n",
       "\n",
       "    .dataframe thead th {\n",
       "        text-align: right;\n",
       "    }\n",
       "</style>\n",
       "<table border=\"1\" class=\"dataframe\">\n",
       "  <thead>\n",
       "    <tr style=\"text-align: right;\">\n",
       "      <th></th>\n",
       "      <th>id</th>\n",
       "      <th>person_age</th>\n",
       "      <th>person_income</th>\n",
       "      <th>person_home_ownership</th>\n",
       "      <th>person_emp_length</th>\n",
       "      <th>loan_intent</th>\n",
       "      <th>loan_grade</th>\n",
       "      <th>loan_amnt</th>\n",
       "      <th>loan_int_rate</th>\n",
       "      <th>loan_percent_income</th>\n",
       "      <th>cb_person_default_on_file</th>\n",
       "      <th>cb_person_cred_hist_length</th>\n",
       "      <th>loan_status</th>\n",
       "    </tr>\n",
       "  </thead>\n",
       "  <tbody>\n",
       "    <tr>\n",
       "      <th>0</th>\n",
       "      <td>0</td>\n",
       "      <td>37</td>\n",
       "      <td>35000</td>\n",
       "      <td>RENT</td>\n",
       "      <td>0.0</td>\n",
       "      <td>EDUCATION</td>\n",
       "      <td>B</td>\n",
       "      <td>6000</td>\n",
       "      <td>11.49</td>\n",
       "      <td>0.17</td>\n",
       "      <td>N</td>\n",
       "      <td>14</td>\n",
       "      <td>0</td>\n",
       "    </tr>\n",
       "    <tr>\n",
       "      <th>1</th>\n",
       "      <td>1</td>\n",
       "      <td>22</td>\n",
       "      <td>56000</td>\n",
       "      <td>OWN</td>\n",
       "      <td>6.0</td>\n",
       "      <td>MEDICAL</td>\n",
       "      <td>C</td>\n",
       "      <td>4000</td>\n",
       "      <td>13.35</td>\n",
       "      <td>0.07</td>\n",
       "      <td>N</td>\n",
       "      <td>2</td>\n",
       "      <td>0</td>\n",
       "    </tr>\n",
       "    <tr>\n",
       "      <th>2</th>\n",
       "      <td>2</td>\n",
       "      <td>29</td>\n",
       "      <td>28800</td>\n",
       "      <td>OWN</td>\n",
       "      <td>8.0</td>\n",
       "      <td>PERSONAL</td>\n",
       "      <td>A</td>\n",
       "      <td>6000</td>\n",
       "      <td>8.90</td>\n",
       "      <td>0.21</td>\n",
       "      <td>N</td>\n",
       "      <td>10</td>\n",
       "      <td>0</td>\n",
       "    </tr>\n",
       "    <tr>\n",
       "      <th>3</th>\n",
       "      <td>3</td>\n",
       "      <td>30</td>\n",
       "      <td>70000</td>\n",
       "      <td>RENT</td>\n",
       "      <td>14.0</td>\n",
       "      <td>VENTURE</td>\n",
       "      <td>B</td>\n",
       "      <td>12000</td>\n",
       "      <td>11.11</td>\n",
       "      <td>0.17</td>\n",
       "      <td>N</td>\n",
       "      <td>5</td>\n",
       "      <td>0</td>\n",
       "    </tr>\n",
       "    <tr>\n",
       "      <th>4</th>\n",
       "      <td>4</td>\n",
       "      <td>22</td>\n",
       "      <td>60000</td>\n",
       "      <td>RENT</td>\n",
       "      <td>2.0</td>\n",
       "      <td>MEDICAL</td>\n",
       "      <td>A</td>\n",
       "      <td>6000</td>\n",
       "      <td>6.92</td>\n",
       "      <td>0.10</td>\n",
       "      <td>N</td>\n",
       "      <td>3</td>\n",
       "      <td>0</td>\n",
       "    </tr>\n",
       "  </tbody>\n",
       "</table>\n",
       "</div>"
      ],
      "text/plain": [
       "   id  person_age  person_income person_home_ownership  person_emp_length  \\\n",
       "0   0          37          35000                  RENT                0.0   \n",
       "1   1          22          56000                   OWN                6.0   \n",
       "2   2          29          28800                   OWN                8.0   \n",
       "3   3          30          70000                  RENT               14.0   \n",
       "4   4          22          60000                  RENT                2.0   \n",
       "\n",
       "  loan_intent loan_grade  loan_amnt  loan_int_rate  loan_percent_income  \\\n",
       "0   EDUCATION          B       6000          11.49                 0.17   \n",
       "1     MEDICAL          C       4000          13.35                 0.07   \n",
       "2    PERSONAL          A       6000           8.90                 0.21   \n",
       "3     VENTURE          B      12000          11.11                 0.17   \n",
       "4     MEDICAL          A       6000           6.92                 0.10   \n",
       "\n",
       "  cb_person_default_on_file  cb_person_cred_hist_length  loan_status  \n",
       "0                         N                          14            0  \n",
       "1                         N                           2            0  \n",
       "2                         N                          10            0  \n",
       "3                         N                           5            0  \n",
       "4                         N                           3            0  "
      ]
     },
     "execution_count": 3,
     "metadata": {},
     "output_type": "execute_result"
    }
   ],
   "source": [
    "train = pd.read_csv(\"/kaggle/input/playground-series-s4e10/train.csv\")\n",
    "test  = pd.read_csv(\"/kaggle/input/playground-series-s4e10/test.csv\")\n",
    "train.head()"
   ]
  },
  {
   "cell_type": "markdown",
   "id": "64e59e85",
   "metadata": {
    "papermill": {
     "duration": 0.00588,
     "end_time": "2024-10-12T01:46:01.514359",
     "exception": false,
     "start_time": "2024-10-12T01:46:01.508479",
     "status": "completed"
    },
    "tags": []
   },
   "source": [
    "## Data Analysis"
   ]
  },
  {
   "cell_type": "code",
   "execution_count": 4,
   "id": "5bf9d473",
   "metadata": {
    "execution": {
     "iopub.execute_input": "2024-10-12T01:46:01.528359Z",
     "iopub.status.busy": "2024-10-12T01:46:01.527940Z",
     "iopub.status.idle": "2024-10-12T01:46:01.532417Z",
     "shell.execute_reply": "2024-10-12T01:46:01.531160Z"
    },
    "papermill": {
     "duration": 0.014231,
     "end_time": "2024-10-12T01:46:01.534665",
     "exception": false,
     "start_time": "2024-10-12T01:46:01.520434",
     "status": "completed"
    },
    "tags": []
   },
   "outputs": [],
   "source": [
    "#can be used if we import pandas_profiling as pp\n",
    "#pp.ProfileReport(train)"
   ]
  },
  {
   "cell_type": "code",
   "execution_count": 5,
   "id": "49b4808a",
   "metadata": {
    "execution": {
     "iopub.execute_input": "2024-10-12T01:46:01.548755Z",
     "iopub.status.busy": "2024-10-12T01:46:01.548366Z",
     "iopub.status.idle": "2024-10-12T01:46:01.564564Z",
     "shell.execute_reply": "2024-10-12T01:46:01.563408Z"
    },
    "papermill": {
     "duration": 0.025726,
     "end_time": "2024-10-12T01:46:01.566667",
     "exception": false,
     "start_time": "2024-10-12T01:46:01.540941",
     "status": "completed"
    },
    "tags": []
   },
   "outputs": [
    {
     "name": "stdout",
     "output_type": "stream",
     "text": [
      "dropped\n"
     ]
    }
   ],
   "source": [
    "#Seprate taget value \"Id\" \"Loan_status(more importantly)\" from the features\n",
    "y = train[['id','loan_status']]\n",
    "#After storing the target value \"loan_status\" in y we can now drop it from the feature set \n",
    "train = train.drop(\"loan_status\", axis=1)\n",
    "\n",
    "print(\"dropped\")"
   ]
  },
  {
   "cell_type": "code",
   "execution_count": 6,
   "id": "8376caa9",
   "metadata": {
    "execution": {
     "iopub.execute_input": "2024-10-12T01:46:01.581048Z",
     "iopub.status.busy": "2024-10-12T01:46:01.580662Z",
     "iopub.status.idle": "2024-10-12T01:46:01.633433Z",
     "shell.execute_reply": "2024-10-12T01:46:01.632359Z"
    },
    "papermill": {
     "duration": 0.062976,
     "end_time": "2024-10-12T01:46:01.636111",
     "exception": false,
     "start_time": "2024-10-12T01:46:01.573135",
     "status": "completed"
    },
    "tags": []
   },
   "outputs": [],
   "source": [
    "#creates a list with both Training and Testing Data sets -> all_dfs\n",
    "all_dfs = [train,test]\n",
    "# \"d.concat(all_dfs)\" merges the train and test datasets into a single DataFrame called all_df. It stacks them vertically by default since they share the same columns.\n",
    "# \".reset_index(drop=True)\" resets the index of the new concatenated DataFrame and drops the old index. \n",
    "# Without this, the concatenated DataFrame would retain the indices from both train and test\n",
    "all_df = pd.concat(all_dfs).reset_index(drop=True)\n",
    "#we combine both data set first to be able to handle the data on both set at the same time"
   ]
  },
  {
   "cell_type": "code",
   "execution_count": 7,
   "id": "07a0895d",
   "metadata": {
    "execution": {
     "iopub.execute_input": "2024-10-12T01:46:01.651289Z",
     "iopub.status.busy": "2024-10-12T01:46:01.650229Z",
     "iopub.status.idle": "2024-10-12T01:46:01.680179Z",
     "shell.execute_reply": "2024-10-12T01:46:01.678204Z"
    },
    "papermill": {
     "duration": 0.040547,
     "end_time": "2024-10-12T01:46:01.683059",
     "exception": false,
     "start_time": "2024-10-12T01:46:01.642512",
     "status": "completed"
    },
    "tags": []
   },
   "outputs": [
    {
     "data": {
      "text/plain": [
       "id                            0\n",
       "person_age                    0\n",
       "person_income                 0\n",
       "person_home_ownership         0\n",
       "person_emp_length             0\n",
       "loan_intent                   0\n",
       "loan_grade                    0\n",
       "loan_amnt                     0\n",
       "loan_int_rate                 0\n",
       "loan_percent_income           0\n",
       "cb_person_default_on_file     0\n",
       "cb_person_cred_hist_length    0\n",
       "dtype: int64"
      ]
     },
     "execution_count": 7,
     "metadata": {},
     "output_type": "execute_result"
    }
   ],
   "source": [
    "all_df.isnull().sum()\n",
    "#no null values was found no need to fill rows or drop columns"
   ]
  },
  {
   "cell_type": "code",
   "execution_count": 8,
   "id": "c45152da",
   "metadata": {
    "execution": {
     "iopub.execute_input": "2024-10-12T01:46:01.699055Z",
     "iopub.status.busy": "2024-10-12T01:46:01.698044Z",
     "iopub.status.idle": "2024-10-12T01:46:01.704706Z",
     "shell.execute_reply": "2024-10-12T01:46:01.703648Z"
    },
    "papermill": {
     "duration": 0.017434,
     "end_time": "2024-10-12T01:46:01.707411",
     "exception": false,
     "start_time": "2024-10-12T01:46:01.689977",
     "status": "completed"
    },
    "tags": []
   },
   "outputs": [
    {
     "name": "stdout",
     "output_type": "stream",
     "text": [
      "id                              int64\n",
      "person_age                      int64\n",
      "person_income                   int64\n",
      "person_home_ownership          object\n",
      "person_emp_length             float64\n",
      "loan_intent                    object\n",
      "loan_grade                     object\n",
      "loan_amnt                       int64\n",
      "loan_int_rate                 float64\n",
      "loan_percent_income           float64\n",
      "cb_person_default_on_file      object\n",
      "cb_person_cred_hist_length      int64\n",
      "dtype: object\n"
     ]
    }
   ],
   "source": [
    "#check all the data types in the data set\n",
    "print(all_df.dtypes)"
   ]
  },
  {
   "cell_type": "markdown",
   "id": "04b247bd",
   "metadata": {
    "papermill": {
     "duration": 0.006561,
     "end_time": "2024-10-12T01:46:01.720646",
     "exception": false,
     "start_time": "2024-10-12T01:46:01.714085",
     "status": "completed"
    },
    "tags": []
   },
   "source": [
    "## Handling Data"
   ]
  },
  {
   "cell_type": "code",
   "execution_count": 9,
   "id": "8de5fbc2",
   "metadata": {
    "execution": {
     "iopub.execute_input": "2024-10-12T01:46:01.735669Z",
     "iopub.status.busy": "2024-10-12T01:46:01.735262Z",
     "iopub.status.idle": "2024-10-12T01:46:01.824754Z",
     "shell.execute_reply": "2024-10-12T01:46:01.823568Z"
    },
    "papermill": {
     "duration": 0.099824,
     "end_time": "2024-10-12T01:46:01.827090",
     "exception": false,
     "start_time": "2024-10-12T01:46:01.727266",
     "status": "completed"
    },
    "tags": []
   },
   "outputs": [
    {
     "name": "stdout",
     "output_type": "stream",
     "text": [
      "id                              int64\n",
      "person_age                      int64\n",
      "person_income                   int64\n",
      "person_home_ownership           int64\n",
      "person_emp_length             float64\n",
      "loan_intent                     int64\n",
      "loan_grade                      int64\n",
      "loan_amnt                       int64\n",
      "loan_int_rate                 float64\n",
      "loan_percent_income           float64\n",
      "cb_person_default_on_file       int64\n",
      "cb_person_cred_hist_length      int64\n",
      "dtype: object\n"
     ]
    }
   ],
   "source": [
    "#Using labelencoder from Ssklearn to convert \"categorical features\" to to a numerical format\n",
    "#This step is essential before feeding the data into Machine Learning models since they work better with numerical input\n",
    "labelencoder=LabelEncoder()\n",
    "\n",
    "all_df['person_home_ownership']  = labelencoder.fit_transform(all_df['person_home_ownership'])\n",
    "all_df['loan_intent']            = labelencoder.fit_transform(all_df['loan_intent'])\n",
    "all_df['loan_grade']             = labelencoder.fit_transform(all_df['loan_grade'])\n",
    "all_df['cb_person_default_on_file']      = labelencoder.fit_transform(all_df['cb_person_default_on_file'])\n",
    "print(all_df.dtypes)"
   ]
  },
  {
   "cell_type": "code",
   "execution_count": 10,
   "id": "6f52c697",
   "metadata": {
    "execution": {
     "iopub.execute_input": "2024-10-12T01:46:01.842888Z",
     "iopub.status.busy": "2024-10-12T01:46:01.842041Z",
     "iopub.status.idle": "2024-10-12T01:46:01.848350Z",
     "shell.execute_reply": "2024-10-12T01:46:01.847241Z"
    },
    "papermill": {
     "duration": 0.016741,
     "end_time": "2024-10-12T01:46:01.850593",
     "exception": false,
     "start_time": "2024-10-12T01:46:01.833852",
     "status": "completed"
    },
    "tags": []
   },
   "outputs": [
    {
     "name": "stdout",
     "output_type": "stream",
     "text": [
      "58645 39098 97743\n"
     ]
    }
   ],
   "source": [
    "#check the data lenght to split the data accoriding back into a traiining set and testing set\n",
    "print(len(train), len(test), len(all_df))"
   ]
  },
  {
   "cell_type": "code",
   "execution_count": 11,
   "id": "3481c5b4",
   "metadata": {
    "execution": {
     "iopub.execute_input": "2024-10-12T01:46:01.865435Z",
     "iopub.status.busy": "2024-10-12T01:46:01.864940Z",
     "iopub.status.idle": "2024-10-12T01:46:01.891051Z",
     "shell.execute_reply": "2024-10-12T01:46:01.889803Z"
    },
    "papermill": {
     "duration": 0.036733,
     "end_time": "2024-10-12T01:46:01.894011",
     "exception": false,
     "start_time": "2024-10-12T01:46:01.857278",
     "status": "completed"
    },
    "tags": []
   },
   "outputs": [],
   "source": [
    "#scales features by removing the mean\n",
    "Scaler = StandardScaler()\n",
    "# \".fit_transform()\" calculates the mean and standard deviation for scaling and then applies the transformation to the entire dataset (all_df)\n",
    "all_scaled   = pd.DataFrame(Scaler.fit_transform(all_df))\n",
    "#spliting th data into 50/50 :1460 -> firt 1460, 1460:2920 -> second 1460.\n",
    "#as the training set consists of the first 1460 rows (train_scaled), while the test set is the next 1460 rows (test_scaled)\n",
    "#train_scaled: This represents the feature set after feature scaling, which contains all the predictors (i.e., features)\n",
    "train_scaled = pd.DataFrame(all_scaled[:58645])\n",
    "test_scaled  = pd.DataFrame(all_scaled[58645:97743])"
   ]
  },
  {
   "cell_type": "code",
   "execution_count": 12,
   "id": "43a909b0",
   "metadata": {
    "execution": {
     "iopub.execute_input": "2024-10-12T01:46:01.910196Z",
     "iopub.status.busy": "2024-10-12T01:46:01.909191Z",
     "iopub.status.idle": "2024-10-12T01:46:01.923684Z",
     "shell.execute_reply": "2024-10-12T01:46:01.922634Z"
    },
    "papermill": {
     "duration": 0.025166,
     "end_time": "2024-10-12T01:46:01.926050",
     "exception": false,
     "start_time": "2024-10-12T01:46:01.900884",
     "status": "completed"
    },
    "tags": []
   },
   "outputs": [],
   "source": [
    "X = train_scaled\n",
    "X_train, X_test, y_train, y_test = train_test_split(X, y['loan_status'], test_size=0.1, random_state=42)"
   ]
  },
  {
   "cell_type": "markdown",
   "id": "e182878d",
   "metadata": {
    "papermill": {
     "duration": 0.006459,
     "end_time": "2024-10-12T01:46:01.939709",
     "exception": false,
     "start_time": "2024-10-12T01:46:01.933250",
     "status": "completed"
    },
    "tags": []
   },
   "source": [
    "## XGBboost"
   ]
  },
  {
   "cell_type": "code",
   "execution_count": 13,
   "id": "a54f9769",
   "metadata": {
    "execution": {
     "iopub.execute_input": "2024-10-12T01:46:01.954758Z",
     "iopub.status.busy": "2024-10-12T01:46:01.954343Z",
     "iopub.status.idle": "2024-10-12T01:46:03.714922Z",
     "shell.execute_reply": "2024-10-12T01:46:03.713778Z"
    },
    "papermill": {
     "duration": 1.770901,
     "end_time": "2024-10-12T01:46:03.717227",
     "exception": false,
     "start_time": "2024-10-12T01:46:01.946326",
     "status": "completed"
    },
    "tags": []
   },
   "outputs": [
    {
     "data": {
      "text/html": [
       "<style>#sk-container-id-1 {color: black;background-color: white;}#sk-container-id-1 pre{padding: 0;}#sk-container-id-1 div.sk-toggleable {background-color: white;}#sk-container-id-1 label.sk-toggleable__label {cursor: pointer;display: block;width: 100%;margin-bottom: 0;padding: 0.3em;box-sizing: border-box;text-align: center;}#sk-container-id-1 label.sk-toggleable__label-arrow:before {content: \"▸\";float: left;margin-right: 0.25em;color: #696969;}#sk-container-id-1 label.sk-toggleable__label-arrow:hover:before {color: black;}#sk-container-id-1 div.sk-estimator:hover label.sk-toggleable__label-arrow:before {color: black;}#sk-container-id-1 div.sk-toggleable__content {max-height: 0;max-width: 0;overflow: hidden;text-align: left;background-color: #f0f8ff;}#sk-container-id-1 div.sk-toggleable__content pre {margin: 0.2em;color: black;border-radius: 0.25em;background-color: #f0f8ff;}#sk-container-id-1 input.sk-toggleable__control:checked~div.sk-toggleable__content {max-height: 200px;max-width: 100%;overflow: auto;}#sk-container-id-1 input.sk-toggleable__control:checked~label.sk-toggleable__label-arrow:before {content: \"▾\";}#sk-container-id-1 div.sk-estimator input.sk-toggleable__control:checked~label.sk-toggleable__label {background-color: #d4ebff;}#sk-container-id-1 div.sk-label input.sk-toggleable__control:checked~label.sk-toggleable__label {background-color: #d4ebff;}#sk-container-id-1 input.sk-hidden--visually {border: 0;clip: rect(1px 1px 1px 1px);clip: rect(1px, 1px, 1px, 1px);height: 1px;margin: -1px;overflow: hidden;padding: 0;position: absolute;width: 1px;}#sk-container-id-1 div.sk-estimator {font-family: monospace;background-color: #f0f8ff;border: 1px dotted black;border-radius: 0.25em;box-sizing: border-box;margin-bottom: 0.5em;}#sk-container-id-1 div.sk-estimator:hover {background-color: #d4ebff;}#sk-container-id-1 div.sk-parallel-item::after {content: \"\";width: 100%;border-bottom: 1px solid gray;flex-grow: 1;}#sk-container-id-1 div.sk-label:hover label.sk-toggleable__label {background-color: #d4ebff;}#sk-container-id-1 div.sk-serial::before {content: \"\";position: absolute;border-left: 1px solid gray;box-sizing: border-box;top: 0;bottom: 0;left: 50%;z-index: 0;}#sk-container-id-1 div.sk-serial {display: flex;flex-direction: column;align-items: center;background-color: white;padding-right: 0.2em;padding-left: 0.2em;position: relative;}#sk-container-id-1 div.sk-item {position: relative;z-index: 1;}#sk-container-id-1 div.sk-parallel {display: flex;align-items: stretch;justify-content: center;background-color: white;position: relative;}#sk-container-id-1 div.sk-item::before, #sk-container-id-1 div.sk-parallel-item::before {content: \"\";position: absolute;border-left: 1px solid gray;box-sizing: border-box;top: 0;bottom: 0;left: 50%;z-index: -1;}#sk-container-id-1 div.sk-parallel-item {display: flex;flex-direction: column;z-index: 1;position: relative;background-color: white;}#sk-container-id-1 div.sk-parallel-item:first-child::after {align-self: flex-end;width: 50%;}#sk-container-id-1 div.sk-parallel-item:last-child::after {align-self: flex-start;width: 50%;}#sk-container-id-1 div.sk-parallel-item:only-child::after {width: 0;}#sk-container-id-1 div.sk-dashed-wrapped {border: 1px dashed gray;margin: 0 0.4em 0.5em 0.4em;box-sizing: border-box;padding-bottom: 0.4em;background-color: white;}#sk-container-id-1 div.sk-label label {font-family: monospace;font-weight: bold;display: inline-block;line-height: 1.2em;}#sk-container-id-1 div.sk-label-container {text-align: center;}#sk-container-id-1 div.sk-container {/* jupyter's `normalize.less` sets `[hidden] { display: none; }` but bootstrap.min.css set `[hidden] { display: none !important; }` so we also need the `!important` here to be able to override the default hidden behavior on the sphinx rendered scikit-learn.org. See: https://github.com/scikit-learn/scikit-learn/issues/21755 */display: inline-block !important;position: relative;}#sk-container-id-1 div.sk-text-repr-fallback {display: none;}</style><div id=\"sk-container-id-1\" class=\"sk-top-container\"><div class=\"sk-text-repr-fallback\"><pre>XGBRegressor(base_score=None, booster=None, callbacks=None,\n",
       "             colsample_bylevel=None, colsample_bynode=None,\n",
       "             colsample_bytree=None, device=None, early_stopping_rounds=None,\n",
       "             enable_categorical=False, eval_metric=None, feature_types=None,\n",
       "             gamma=None, grow_policy=None, importance_type=None,\n",
       "             interaction_constraints=None, learning_rate=0.1, max_bin=None,\n",
       "             max_cat_threshold=None, max_cat_to_onehot=None,\n",
       "             max_delta_step=None, max_depth=2, max_leaves=None,\n",
       "             min_child_weight=3, missing=nan, monotone_constraints=None,\n",
       "             multi_strategy=None, n_estimators=1000, n_jobs=-1,\n",
       "             num_parallel_tree=None, random_state=None, ...)</pre><b>In a Jupyter environment, please rerun this cell to show the HTML representation or trust the notebook. <br />On GitHub, the HTML representation is unable to render, please try loading this page with nbviewer.org.</b></div><div class=\"sk-container\" hidden><div class=\"sk-item\"><div class=\"sk-estimator sk-toggleable\"><input class=\"sk-toggleable__control sk-hidden--visually\" id=\"sk-estimator-id-1\" type=\"checkbox\" checked><label for=\"sk-estimator-id-1\" class=\"sk-toggleable__label sk-toggleable__label-arrow\">XGBRegressor</label><div class=\"sk-toggleable__content\"><pre>XGBRegressor(base_score=None, booster=None, callbacks=None,\n",
       "             colsample_bylevel=None, colsample_bynode=None,\n",
       "             colsample_bytree=None, device=None, early_stopping_rounds=None,\n",
       "             enable_categorical=False, eval_metric=None, feature_types=None,\n",
       "             gamma=None, grow_policy=None, importance_type=None,\n",
       "             interaction_constraints=None, learning_rate=0.1, max_bin=None,\n",
       "             max_cat_threshold=None, max_cat_to_onehot=None,\n",
       "             max_delta_step=None, max_depth=2, max_leaves=None,\n",
       "             min_child_weight=3, missing=nan, monotone_constraints=None,\n",
       "             multi_strategy=None, n_estimators=1000, n_jobs=-1,\n",
       "             num_parallel_tree=None, random_state=None, ...)</pre></div></div></div></div></div>"
      ],
      "text/plain": [
       "XGBRegressor(base_score=None, booster=None, callbacks=None,\n",
       "             colsample_bylevel=None, colsample_bynode=None,\n",
       "             colsample_bytree=None, device=None, early_stopping_rounds=None,\n",
       "             enable_categorical=False, eval_metric=None, feature_types=None,\n",
       "             gamma=None, grow_policy=None, importance_type=None,\n",
       "             interaction_constraints=None, learning_rate=0.1, max_bin=None,\n",
       "             max_cat_threshold=None, max_cat_to_onehot=None,\n",
       "             max_delta_step=None, max_depth=2, max_leaves=None,\n",
       "             min_child_weight=3, missing=nan, monotone_constraints=None,\n",
       "             multi_strategy=None, n_estimators=1000, n_jobs=-1,\n",
       "             num_parallel_tree=None, random_state=None, ...)"
      ]
     },
     "execution_count": 13,
     "metadata": {},
     "output_type": "execute_result"
    }
   ],
   "source": [
    "from xgboost import XGBRegressor\n",
    "XGB = XGBRegressor(\n",
    "    max_depth=2,       #maximum depth tree (Limits the depth of each decision tree to prevent overfitting)\n",
    "    learning_rate=0.1, #step size to update the weight after each boosting step (Controls how much the model adjusts during each boosting step)\n",
    "    n_estimators=1000, #number of trees or \"boosting rounds\"\n",
    "    reg_alpha=0.001,   #regulization term on weights\n",
    "    reg_lambda=0.000001,\n",
    "    n_jobs=-1,         #uses all availible CPU \n",
    "    min_child_weight=3 #minimum sum of instance weights required in a child note\n",
    ")                      #^^(A higher value makes the model more conservative by preventing the tree from growing too complex )\n",
    "XGB.fit(X_train,y_train)"
   ]
  },
  {
   "cell_type": "markdown",
   "id": "155b24da",
   "metadata": {
    "papermill": {
     "duration": 0.00685,
     "end_time": "2024-10-12T01:46:03.731081",
     "exception": false,
     "start_time": "2024-10-12T01:46:03.724231",
     "status": "completed"
    },
    "tags": []
   },
   "source": [
    "## LGBM"
   ]
  },
  {
   "cell_type": "code",
   "execution_count": 14,
   "id": "a9845a90",
   "metadata": {
    "execution": {
     "iopub.execute_input": "2024-10-12T01:46:03.747522Z",
     "iopub.status.busy": "2024-10-12T01:46:03.746701Z",
     "iopub.status.idle": "2024-10-12T01:46:10.398054Z",
     "shell.execute_reply": "2024-10-12T01:46:10.396959Z"
    },
    "papermill": {
     "duration": 6.662266,
     "end_time": "2024-10-12T01:46:10.400471",
     "exception": false,
     "start_time": "2024-10-12T01:46:03.738205",
     "status": "completed"
    },
    "tags": []
   },
   "outputs": [
    {
     "name": "stdout",
     "output_type": "stream",
     "text": [
      "[LightGBM] [Info] Auto-choosing col-wise multi-threading, the overhead of testing was 0.008436 seconds.\n",
      "You can set `force_col_wise=true` to remove the overhead.\n",
      "[LightGBM] [Info] Total Bins 1139\n",
      "[LightGBM] [Info] Number of data points in the train set: 52780, number of used features: 12\n",
      "[LightGBM] [Info] Start training from score 0.142592\n"
     ]
    },
    {
     "data": {
      "text/html": [
       "<style>#sk-container-id-2 {color: black;background-color: white;}#sk-container-id-2 pre{padding: 0;}#sk-container-id-2 div.sk-toggleable {background-color: white;}#sk-container-id-2 label.sk-toggleable__label {cursor: pointer;display: block;width: 100%;margin-bottom: 0;padding: 0.3em;box-sizing: border-box;text-align: center;}#sk-container-id-2 label.sk-toggleable__label-arrow:before {content: \"▸\";float: left;margin-right: 0.25em;color: #696969;}#sk-container-id-2 label.sk-toggleable__label-arrow:hover:before {color: black;}#sk-container-id-2 div.sk-estimator:hover label.sk-toggleable__label-arrow:before {color: black;}#sk-container-id-2 div.sk-toggleable__content {max-height: 0;max-width: 0;overflow: hidden;text-align: left;background-color: #f0f8ff;}#sk-container-id-2 div.sk-toggleable__content pre {margin: 0.2em;color: black;border-radius: 0.25em;background-color: #f0f8ff;}#sk-container-id-2 input.sk-toggleable__control:checked~div.sk-toggleable__content {max-height: 200px;max-width: 100%;overflow: auto;}#sk-container-id-2 input.sk-toggleable__control:checked~label.sk-toggleable__label-arrow:before {content: \"▾\";}#sk-container-id-2 div.sk-estimator input.sk-toggleable__control:checked~label.sk-toggleable__label {background-color: #d4ebff;}#sk-container-id-2 div.sk-label input.sk-toggleable__control:checked~label.sk-toggleable__label {background-color: #d4ebff;}#sk-container-id-2 input.sk-hidden--visually {border: 0;clip: rect(1px 1px 1px 1px);clip: rect(1px, 1px, 1px, 1px);height: 1px;margin: -1px;overflow: hidden;padding: 0;position: absolute;width: 1px;}#sk-container-id-2 div.sk-estimator {font-family: monospace;background-color: #f0f8ff;border: 1px dotted black;border-radius: 0.25em;box-sizing: border-box;margin-bottom: 0.5em;}#sk-container-id-2 div.sk-estimator:hover {background-color: #d4ebff;}#sk-container-id-2 div.sk-parallel-item::after {content: \"\";width: 100%;border-bottom: 1px solid gray;flex-grow: 1;}#sk-container-id-2 div.sk-label:hover label.sk-toggleable__label {background-color: #d4ebff;}#sk-container-id-2 div.sk-serial::before {content: \"\";position: absolute;border-left: 1px solid gray;box-sizing: border-box;top: 0;bottom: 0;left: 50%;z-index: 0;}#sk-container-id-2 div.sk-serial {display: flex;flex-direction: column;align-items: center;background-color: white;padding-right: 0.2em;padding-left: 0.2em;position: relative;}#sk-container-id-2 div.sk-item {position: relative;z-index: 1;}#sk-container-id-2 div.sk-parallel {display: flex;align-items: stretch;justify-content: center;background-color: white;position: relative;}#sk-container-id-2 div.sk-item::before, #sk-container-id-2 div.sk-parallel-item::before {content: \"\";position: absolute;border-left: 1px solid gray;box-sizing: border-box;top: 0;bottom: 0;left: 50%;z-index: -1;}#sk-container-id-2 div.sk-parallel-item {display: flex;flex-direction: column;z-index: 1;position: relative;background-color: white;}#sk-container-id-2 div.sk-parallel-item:first-child::after {align-self: flex-end;width: 50%;}#sk-container-id-2 div.sk-parallel-item:last-child::after {align-self: flex-start;width: 50%;}#sk-container-id-2 div.sk-parallel-item:only-child::after {width: 0;}#sk-container-id-2 div.sk-dashed-wrapped {border: 1px dashed gray;margin: 0 0.4em 0.5em 0.4em;box-sizing: border-box;padding-bottom: 0.4em;background-color: white;}#sk-container-id-2 div.sk-label label {font-family: monospace;font-weight: bold;display: inline-block;line-height: 1.2em;}#sk-container-id-2 div.sk-label-container {text-align: center;}#sk-container-id-2 div.sk-container {/* jupyter's `normalize.less` sets `[hidden] { display: none; }` but bootstrap.min.css set `[hidden] { display: none !important; }` so we also need the `!important` here to be able to override the default hidden behavior on the sphinx rendered scikit-learn.org. See: https://github.com/scikit-learn/scikit-learn/issues/21755 */display: inline-block !important;position: relative;}#sk-container-id-2 div.sk-text-repr-fallback {display: none;}</style><div id=\"sk-container-id-2\" class=\"sk-top-container\"><div class=\"sk-text-repr-fallback\"><pre>LGBMRegressor(n_estimators=1000)</pre><b>In a Jupyter environment, please rerun this cell to show the HTML representation or trust the notebook. <br />On GitHub, the HTML representation is unable to render, please try loading this page with nbviewer.org.</b></div><div class=\"sk-container\" hidden><div class=\"sk-item\"><div class=\"sk-estimator sk-toggleable\"><input class=\"sk-toggleable__control sk-hidden--visually\" id=\"sk-estimator-id-2\" type=\"checkbox\" checked><label for=\"sk-estimator-id-2\" class=\"sk-toggleable__label sk-toggleable__label-arrow\">LGBMRegressor</label><div class=\"sk-toggleable__content\"><pre>LGBMRegressor(n_estimators=1000)</pre></div></div></div></div></div>"
      ],
      "text/plain": [
       "LGBMRegressor(n_estimators=1000)"
      ]
     },
     "execution_count": 14,
     "metadata": {},
     "output_type": "execute_result"
    }
   ],
   "source": [
    "from lightgbm import LGBMRegressor\n",
    "#initialize model\n",
    "#n_estimators=1000 specifies that the model will build 1000 boosting iterations or \"trees\"\n",
    "LGBM = LGBMRegressor(n_estimators = 1000)\n",
    "LGBM.fit(X_train,y_train)"
   ]
  },
  {
   "cell_type": "markdown",
   "id": "7eaef6bb",
   "metadata": {
    "papermill": {
     "duration": 0.007228,
     "end_time": "2024-10-12T01:46:10.415856",
     "exception": false,
     "start_time": "2024-10-12T01:46:10.408628",
     "status": "completed"
    },
    "tags": []
   },
   "source": [
    "## Test scores"
   ]
  },
  {
   "cell_type": "code",
   "execution_count": 15,
   "id": "c47ee19a",
   "metadata": {
    "execution": {
     "iopub.execute_input": "2024-10-12T01:46:10.432618Z",
     "iopub.status.busy": "2024-10-12T01:46:10.431922Z",
     "iopub.status.idle": "2024-10-12T01:46:15.018951Z",
     "shell.execute_reply": "2024-10-12T01:46:15.017798Z"
    },
    "papermill": {
     "duration": 4.598235,
     "end_time": "2024-10-12T01:46:15.021458",
     "exception": false,
     "start_time": "2024-10-12T01:46:10.423223",
     "status": "completed"
    },
    "tags": []
   },
   "outputs": [
    {
     "name": "stdout",
     "output_type": "stream",
     "text": [
      "Training score: 0.6165753447534977 Test Score: 0.6059599462816594\n",
      "Training score: 0.8393210818318849 Test Score: 0.6710494752023524\n"
     ]
    }
   ],
   "source": [
    "#Test score for both models \n",
    "print (\"Training score:\",XGB.score(X_train,y_train), \"Test Score:\",XGB.score(X_test,y_test))\n",
    "print (\"Training score:\",LGBM.score(X_train,y_train),\"Test Score:\",LGBM.score(X_test,y_test))"
   ]
  },
  {
   "cell_type": "code",
   "execution_count": 16,
   "id": "09e0c858",
   "metadata": {
    "execution": {
     "iopub.execute_input": "2024-10-12T01:46:15.038707Z",
     "iopub.status.busy": "2024-10-12T01:46:15.037693Z",
     "iopub.status.idle": "2024-10-12T01:46:41.089580Z",
     "shell.execute_reply": "2024-10-12T01:46:41.088183Z"
    },
    "papermill": {
     "duration": 26.063,
     "end_time": "2024-10-12T01:46:41.092036",
     "exception": false,
     "start_time": "2024-10-12T01:46:15.029036",
     "status": "completed"
    },
    "tags": []
   },
   "outputs": [
    {
     "data": {
      "image/png": "[encoded data removed]",
      "text/plain": [
       "<Figure size 640x480 with 1 Axes>"
      ]
     },
     "metadata": {},
     "output_type": "display_data"
    }
   ],
   "source": [
    "#plottoing a learning curve to seee if our model is overfiting \n",
    "import matplotlib.pyplot as plt\n",
    "from sklearn.metrics import mean_squared_error\n",
    "\n",
    "train_sizes = np.linspace(0.1, 0.9, 10)\n",
    "train_errors = []\n",
    "validation_errors = []\n",
    "    \n",
    "# For each training size, train the model and evaluate performance\n",
    "for train_size in train_sizes:\n",
    "    X_train_subset, X_test_subset, y_train_subset, y_test_subset = train_test_split(X_train, y_train, train_size=train_size, random_state=42)\n",
    "    \n",
    "    XGB.fit(X_train_subset, y_train_subset)\n",
    "    \n",
    "    y_train_pred = XGB.predict(X_train_subset)\n",
    "    y_val_pred = XGB.predict(X_test_subset)\n",
    "    \n",
    "    # Compute errors\n",
    "    train_rmse = mean_squared_error(y_train_subset, y_train_pred, squared=False)\n",
    "    val_rmse = mean_squared_error(y_test_subset, y_val_pred, squared=False)\n",
    "    \n",
    "    train_errors.append(train_rmse)\n",
    "    validation_errors.append(val_rmse)\n",
    "\n",
    "# Plot learning curves\n",
    "plt.plot(train_sizes, train_errors, label='Training error')\n",
    "plt.plot(train_sizes, validation_errors, label='Validation error')\n",
    "plt.ylabel('RMSE')\n",
    "plt.xlabel('Training Set Size')\n",
    "plt.title('Learning Curves')\n",
    "plt.legend()\n",
    "plt.show()"
   ]
  },
  {
   "cell_type": "markdown",
   "id": "44a31c37",
   "metadata": {
    "papermill": {
     "duration": 0.007846,
     "end_time": "2024-10-12T01:46:41.108343",
     "exception": false,
     "start_time": "2024-10-12T01:46:41.100497",
     "status": "completed"
    },
    "tags": []
   },
   "source": [
    "## Submission "
   ]
  },
  {
   "cell_type": "code",
   "execution_count": 17,
   "id": "7bcffbd2",
   "metadata": {
    "execution": {
     "iopub.execute_input": "2024-10-12T01:46:41.126426Z",
     "iopub.status.busy": "2024-10-12T01:46:41.125640Z",
     "iopub.status.idle": "2024-10-12T01:46:44.194499Z",
     "shell.execute_reply": "2024-10-12T01:46:44.193387Z"
    },
    "papermill": {
     "duration": 3.08084,
     "end_time": "2024-10-12T01:46:44.197123",
     "exception": false,
     "start_time": "2024-10-12T01:46:41.116283",
     "status": "completed"
    },
    "tags": []
   },
   "outputs": [],
   "source": [
    "#generate the predictions using \".predict\" for the \"test_scaled\" for both models and store it to merge later\n",
    "y_pred_xgb  = pd.DataFrame( XGB.predict(test_scaled))\n",
    "y_pred_lgbm = pd.DataFrame(LGBM.predict(test_scaled))\n",
    "#create empty dataset set to store the result (with the same format as the sample_submission)\n",
    "y_pred=pd.DataFrame()\n",
    "#store the \"loan_status\" prediction from both XGB and LGBM \n",
    "#the loan_status was combines by dividng each value from each model half and then added together\n",
    "y_pred['loan_status'] = 0.5 * y_pred_xgb[0] + 0.5 * y_pred_lgbm[0]\n",
    "#store the Id column in the dataset\n",
    "y_pred['id'] = test['id']"
   ]
  },
  {
   "cell_type": "code",
   "execution_count": 18,
   "id": "d09041ff",
   "metadata": {
    "execution": {
     "iopub.execute_input": "2024-10-12T01:46:44.216025Z",
     "iopub.status.busy": "2024-10-12T01:46:44.215221Z",
     "iopub.status.idle": "2024-10-12T01:46:44.314093Z",
     "shell.execute_reply": "2024-10-12T01:46:44.312975Z"
    },
    "papermill": {
     "duration": 0.111255,
     "end_time": "2024-10-12T01:46:44.316770",
     "exception": false,
     "start_time": "2024-10-12T01:46:44.205515",
     "status": "completed"
    },
    "tags": []
   },
   "outputs": [],
   "source": [
    "#save dataset into a csv file for submission\n",
    "y_pred.to_csv('submission.csv',index=False)"
   ]
  },
  {
   "cell_type": "markdown",
   "id": "6cbc8f67",
   "metadata": {
    "papermill": {
     "duration": 0.007826,
     "end_time": "2024-10-12T01:46:44.333015",
     "exception": false,
     "start_time": "2024-10-12T01:46:44.325189",
     "status": "completed"
    },
    "tags": []
   },
   "source": [
    "Here an XGB and LGBm reggrosion model were used as the Submissions are evaluated using area under the ROC curve using the predicted probabilities and the ground truth targets. Howver a XGB and LGBM classification model would usually give higher accuracy but not lower test score.\n",
    "\n",
    "**PS** : you can try this yourself and see the results by changing the models from \n",
    "\n",
    "* > from xgboost import XGBRegressor \\\n",
    "  > XGB = XGBRegressor( \n",
    "\n",
    "**too** \n",
    "\n",
    "* > from xgboost import XGBClassifier\\\n",
    "  > XGB = XGBClassifier( \n",
    "\n",
    "And same thing the LGBM\\\n",
    "hope this was clear enough and easy to understand, if something doesnt seem clear enough or confusing drop a comment I would be more than happy to help and explain more\n"
   ]
  }
 ],
 "metadata": {
  "kaggle": {
   "accelerator": "none",
   "dataSources": [
    {
     "databundleVersionId": 9709193,
     "sourceId": 84894,
     "sourceType": "competition"
    }
   ],
   "dockerImageVersionId": 30786,
   "isGpuEnabled": false,
   "isInternetEnabled": true,
   "language": "python",
   "sourceType": "notebook"
  },
  "kernelspec": {
   "display_name": "Python 3",
   "language": "python",
   "name": "python3"
  },
  "language_info": {
   "codemirror_mode": {
    "name": "ipython",
    "version": 3
   },
   "file_extension": ".py",
   "mimetype": "text/x-python",
   "name": "python",
   "nbconvert_exporter": "python",
   "pygments_lexer": "ipython3",
   "version": "3.10.14"
  },
  "papermill": {
   "default_parameters": {},
   "duration": 48.770377,
   "end_time": "2024-10-12T01:46:45.062479",
   "environment_variables": {},
   "exception": null,
   "input_path": "__notebook__.ipynb",
   "output_path": "__notebook__.ipynb",
   "parameters": {},
   "start_time": "2024-10-12T01:45:56.292102",
   "version": "2.6.0"
  }
 },
 "nbformat": 4,
 "nbformat_minor": 5
}
